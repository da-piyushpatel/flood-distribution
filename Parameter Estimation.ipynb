{
 "cells": [
  {
   "cell_type": "code",
   "execution_count": 13,
   "metadata": {},
   "outputs": [],
   "source": [
    "import numpy as np\n",
    "import pandas as pd\n",
    "import matplotlib.pyplot as plt\n",
    "import seaborn as sns\n",
    "from scipy.optimize import minimize\n",
    "import math as math\n",
    "import scipy.stats as stats\n",
    "\n",
    "# import pymc3 as pm3\n",
    "# import numdifftools as ndt\n",
    "# import statsmodels.api as sm\n",
    "# from statsmodels.base.model import GenericLikelihoodModel\n",
    "%matplotlib inline"
   ]
  },
  {
   "cell_type": "code",
   "execution_count": 14,
   "metadata": {},
   "outputs": [],
   "source": [
    "df = pd.read_csv('data1.csv')"
   ]
  },
  {
   "cell_type": "code",
   "execution_count": 15,
   "metadata": {},
   "outputs": [],
   "source": [
    "# Gussain Parameter Estimation\n",
    "mean_guass = df['data'].mean()\n",
    "sd_guass = np.std(df['data'])"
   ]
  },
  {
   "cell_type": "code",
   "execution_count": 16,
   "metadata": {},
   "outputs": [],
   "source": [
    "# Exponential Parameter Estimation\n",
    "lambda_exp = 1/(df['data'].mean())"
   ]
  },
  {
   "cell_type": "code",
   "execution_count": 35,
   "metadata": {},
   "outputs": [],
   "source": [
    "# Lognormal Parameter Estimation\n",
    "df['log_x'] = np.log(df['data'])\n",
    "mew_y = df['log_x'].mean()\n",
    "sigma_y = np.std(df['log_x'])\n",
    "mew_x_log = math.exp(mew_y+(sigma_y**2)/2)\n",
    "sigma_x_log = math.sqrt((mew_x_log**2)*(math.exp(sigma_y**2)-1))"
   ]
  },
  {
   "cell_type": "code",
   "execution_count": null,
   "metadata": {},
   "outputs": [],
   "source": [
    "# Gamma Parameter Estimation\n",
    "mean_gama = df['data'].mean()\n",
    "sd_gama = np.std(df['data'])\n",
    "lambda_gama = mean_gama/(sd_gama**2)\n",
    "k_gama = (mean_gama**2)/()"
   ]
  },
  {
   "cell_type": "code",
   "execution_count": null,
   "metadata": {},
   "outputs": [],
   "source": [
    "# Pearson Type-III Parameter Estimation"
   ]
  },
  {
   "cell_type": "code",
   "execution_count": null,
   "metadata": {},
   "outputs": [],
   "source": [
    "# Gumbel parameter Estimation"
   ]
  }
 ],
 "metadata": {
  "kernelspec": {
   "display_name": "Python 3",
   "language": "python",
   "name": "python3"
  },
  "language_info": {
   "codemirror_mode": {
    "name": "ipython",
    "version": 3
   },
   "file_extension": ".py",
   "mimetype": "text/x-python",
   "name": "python",
   "nbconvert_exporter": "python",
   "pygments_lexer": "ipython3",
   "version": "3.7.4"
  }
 },
 "nbformat": 4,
 "nbformat_minor": 2
}
