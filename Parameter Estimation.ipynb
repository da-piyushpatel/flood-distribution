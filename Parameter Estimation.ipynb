{
 "cells": [
  {
   "cell_type": "code",
   "execution_count": 47,
   "metadata": {},
   "outputs": [],
   "source": [
    "import numpy as np\n",
    "import pandas as pd\n",
    "import matplotlib.pyplot as plt\n",
    "import seaborn as sns\n",
    "from scipy.integrate import quad\n",
    "from scipy.optimize import minimize\n",
    "import math as math\n",
    "import scipy.stats as stats\n",
    "\n",
    "\n",
    "# import pymc3 as pm3\n",
    "# import numdifftools as ndt\n",
    "# import statsmodels.api as sm\n",
    "# from statsmodels.base.model import GenericLikelihoodModel\n",
    "%matplotlib inline"
   ]
  },
  {
   "cell_type": "code",
   "execution_count": 48,
   "metadata": {},
   "outputs": [],
   "source": [
    "df = pd.read_csv('data1.csv')"
   ]
  },
  {
   "cell_type": "code",
   "execution_count": 77,
   "metadata": {},
   "outputs": [],
   "source": [
    "# Gussain Parameter Estimation\n",
    "mean_guass = df['data'].mean()\n",
    "sd_guass = np.std(df['data'])\n",
    "\n",
    "def guass(x):\n",
    "    return ((1/(np.sqrt(2*np.pi)*sd_guass))*np.exp(-(((x-mean_guass)/sd_guass)**2)/2))\n",
    "            \n",
    "# quad(guass,np.NINF,mean_guass)"
   ]
  },
  {
   "cell_type": "code",
   "execution_count": 16,
   "metadata": {},
   "outputs": [],
   "source": [
    "# Exponential Parameter Estimation\n",
    "lambda_exp = 1/(df['data'].mean())\n",
    "\n",
    "def exponential(x):\n",
    "    return (lambdae_exp*np.exp(-lambda_exp*x))"
   ]
  },
  {
   "cell_type": "code",
   "execution_count": 80,
   "metadata": {},
   "outputs": [],
   "source": [
    "# Lognormal Parameter Estimation\n",
    "df['log_x'] = np.log(df['data'])\n",
    "mew_y = df['log_x'].mean()\n",
    "sigma_y = np.std(df['log_x'])\n",
    "mew_x_log = math.exp(mew_y+(sigma_y**2)/2)\n",
    "sigma_x_log = math.sqrt((mew_x_log**2)*(math.exp(sigma_y**2)-1))\n",
    "\n",
    "def lognormal(x):\n",
    "    return ((1/(x*np.sqrt(2*np.pi*(sigma_y**2)))*np.exp(-(0.5)*((np.log(x)-mew_y)/sigma_y)**2)))"
   ]
  },
  {
   "cell_type": "code",
   "execution_count": 81,
   "metadata": {},
   "outputs": [],
   "source": [
    "# Gamma Parameter Estimation\n",
    "mean_gama = df['data'].mean()\n",
    "sd_gama = np.std(df['data'])\n",
    "lambda_gama = mean_gama/(sd_gama**2)\n",
    "k_gama = (mean_gama**2)/(sd_gama**2)"
   ]
  },
  {
   "cell_type": "code",
   "execution_count": 44,
   "metadata": {},
   "outputs": [],
   "source": [
    "# Pearson Type-III Parameter Estimation\n",
    "mean_pearson = df['data'].mean()\n",
    "sd_pearson = np.std(df['data'])\n",
    "skew_coeff_pearson = stats.skew(df['data'])\n",
    "k_pearson = (2.0/skew_coeff_pearson)**2\n",
    "lambda_pearson = (math.sqrt(k_pearson))/sd_pearson\n",
    "epsilon_pearson = mean_pearson-sd_pearson*math.sqrt(k_pearson)"
   ]
  },
  {
   "cell_type": "code",
   "execution_count": 38,
   "metadata": {},
   "outputs": [],
   "source": [
    "# Gumbel parameter Estimation\n",
    "beta_gumbel = math.sqrt(6)*np.std(df['data'])/math.pi\n",
    "alpha_gumbel = df['data'].mean()-0.5772*beta_gumbel"
   ]
  },
  {
   "cell_type": "code",
   "execution_count": null,
   "metadata": {},
   "outputs": [],
   "source": []
  }
 ],
 "metadata": {
  "kernelspec": {
   "display_name": "Python 3",
   "language": "python",
   "name": "python3"
  },
  "language_info": {
   "codemirror_mode": {
    "name": "ipython",
    "version": 3
   },
   "file_extension": ".py",
   "mimetype": "text/x-python",
   "name": "python",
   "nbconvert_exporter": "python",
   "pygments_lexer": "ipython3",
   "version": "3.7.4"
  }
 },
 "nbformat": 4,
 "nbformat_minor": 2
}
