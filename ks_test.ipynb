{
 "cells": [
  {
   "cell_type": "code",
   "execution_count": 97,
   "metadata": {},
   "outputs": [],
   "source": [
    "import numpy as np\n",
    "import pandas as pd\n",
    "import matplotlib.pyplot as plt\n",
    "import seaborn as sns\n",
    "from scipy.integrate import quad\n",
    "from scipy.optimize import minimize\n",
    "import math as math\n",
    "import scipy.stats as stats\n",
    "from scipy.stats import anderson as ande\n",
    "from scipy.stats import kstest\n",
    "%matplotlib inline"
   ]
  },
  {
   "cell_type": "code",
   "execution_count": 98,
   "metadata": {},
   "outputs": [
    {
     "data": {
      "text/html": [
       "<div>\n",
       "<style scoped>\n",
       "    .dataframe tbody tr th:only-of-type {\n",
       "        vertical-align: middle;\n",
       "    }\n",
       "\n",
       "    .dataframe tbody tr th {\n",
       "        vertical-align: top;\n",
       "    }\n",
       "\n",
       "    .dataframe thead th {\n",
       "        text-align: right;\n",
       "    }\n",
       "</style>\n",
       "<table border=\"1\" class=\"dataframe\">\n",
       "  <thead>\n",
       "    <tr style=\"text-align: right;\">\n",
       "      <th></th>\n",
       "      <th>data</th>\n",
       "    </tr>\n",
       "  </thead>\n",
       "  <tbody>\n",
       "    <tr>\n",
       "      <td>0</td>\n",
       "      <td>5.0</td>\n",
       "    </tr>\n",
       "    <tr>\n",
       "      <td>1</td>\n",
       "      <td>6.0</td>\n",
       "    </tr>\n",
       "    <tr>\n",
       "      <td>2</td>\n",
       "      <td>8.5</td>\n",
       "    </tr>\n",
       "    <tr>\n",
       "      <td>3</td>\n",
       "      <td>8.4</td>\n",
       "    </tr>\n",
       "    <tr>\n",
       "      <td>4</td>\n",
       "      <td>8.0</td>\n",
       "    </tr>\n",
       "    <tr>\n",
       "      <td>5</td>\n",
       "      <td>15.0</td>\n",
       "    </tr>\n",
       "    <tr>\n",
       "      <td>6</td>\n",
       "      <td>14.5</td>\n",
       "    </tr>\n",
       "    <tr>\n",
       "      <td>7</td>\n",
       "      <td>9.6</td>\n",
       "    </tr>\n",
       "    <tr>\n",
       "      <td>8</td>\n",
       "      <td>10.5</td>\n",
       "    </tr>\n",
       "    <tr>\n",
       "      <td>9</td>\n",
       "      <td>8.8</td>\n",
       "    </tr>\n",
       "  </tbody>\n",
       "</table>\n",
       "</div>"
      ],
      "text/plain": [
       "   data\n",
       "0   5.0\n",
       "1   6.0\n",
       "2   8.5\n",
       "3   8.4\n",
       "4   8.0\n",
       "5  15.0\n",
       "6  14.5\n",
       "7   9.6\n",
       "8  10.5\n",
       "9   8.8"
      ]
     },
     "execution_count": 98,
     "metadata": {},
     "output_type": "execute_result"
    }
   ],
   "source": [
    "# df = pd.read_csv('data5.csv')\n",
    "df = pd.DataFrame([5,6,8.5,8.4,8,15,14.5,9.6,10.5,8.8],columns=['data'])\n",
    "df"
   ]
  },
  {
   "cell_type": "code",
   "execution_count": 99,
   "metadata": {},
   "outputs": [
    {
     "data": {
      "text/plain": [
       "<matplotlib.axes._subplots.AxesSubplot at 0x16a7c1afc48>"
      ]
     },
     "execution_count": 99,
     "metadata": {},
     "output_type": "execute_result"
    },
    {
     "data": {
      "image/png": "[encoded data removed]",
      "text/plain": [
       "<Figure size 432x288 with 1 Axes>"
      ]
     },
     "metadata": {
      "needs_background": "light"
     },
     "output_type": "display_data"
    }
   ],
   "source": [
    "sns.distplot(df['data'])"
   ]
  },
  {
   "cell_type": "code",
   "execution_count": 104,
   "metadata": {},
   "outputs": [
    {
     "data": {
      "text/plain": [
       "(0.006209665325776138, 3.846983301282351e-11)"
      ]
     },
     "execution_count": 104,
     "metadata": {},
     "output_type": "execute_result"
    }
   ],
   "source": [
    "# Gussain Parameter Estimation\n",
    "# mean_guass = df['data'].mean()\n",
    "# sd_guass = np.std(df['data'])\n",
    "mean_guass = 10\n",
    "sd_guass = 2\n",
    "\n",
    "def guass(x):\n",
    "    return ((1/(np.sqrt(2*np.pi)*sd_guass))*np.exp(-(0.5)*((x-mean_guass)/sd_guass)**2))\n",
    "            \n",
    "quad(guass,np.NINF,5)"
   ]
  },
  {
   "cell_type": "code",
   "execution_count": 105,
   "metadata": {},
   "outputs": [
    {
     "name": "stderr",
     "output_type": "stream",
     "text": [
      "C:\\Users\\Piyush Patel\\Anaconda3\\lib\\site-packages\\ipykernel_launcher.py:6: SettingWithCopyWarning: \n",
      "A value is trying to be set on a copy of a slice from a DataFrame\n",
      "\n",
      "See the caveats in the documentation: http://pandas.pydata.org/pandas-docs/stable/user_guide/indexing.html#returning-a-view-versus-a-copy\n",
      "  \n"
     ]
    }
   ],
   "source": [
    "ks_df = pd.DataFrame(columns=['x_i','xi_sorted','Sn_x','F(x)','|Fx-Sn(x)|'])\n",
    "ks_df['x_i'] = df['data']\n",
    "ks_df['xi_sorted'] = np.sort(ks_df['x_i'])\n",
    "ks_df['Sn_x'] = (df.index+1)/ks_df['x_i'].size\n",
    "for i in range(len(ks_df['x_i'])):\n",
    "    ks_df['F(x)'][i] = quad(guass,np.NINF,ks_df['xi_sorted'][i])[0]\n",
    "    \n",
    "ks_df['|Fx-Sn(x)|'] = abs(ks_df['Sn_x'] - ks_df['F(x)'])"
   ]
  },
  {
   "cell_type": "code",
   "execution_count": 106,
   "metadata": {},
   "outputs": [
    {
     "data": {
      "text/html": [
       "<div>\n",
       "<style scoped>\n",
       "    .dataframe tbody tr th:only-of-type {\n",
       "        vertical-align: middle;\n",
       "    }\n",
       "\n",
       "    .dataframe tbody tr th {\n",
       "        vertical-align: top;\n",
       "    }\n",
       "\n",
       "    .dataframe thead th {\n",
       "        text-align: right;\n",
       "    }\n",
       "</style>\n",
       "<table border=\"1\" class=\"dataframe\">\n",
       "  <thead>\n",
       "    <tr style=\"text-align: right;\">\n",
       "      <th></th>\n",
       "      <th>x_i</th>\n",
       "      <th>xi_sorted</th>\n",
       "      <th>Sn_x</th>\n",
       "      <th>F(x)</th>\n",
       "      <th>|Fx-Sn(x)|</th>\n",
       "    </tr>\n",
       "  </thead>\n",
       "  <tbody>\n",
       "    <tr>\n",
       "      <td>0</td>\n",
       "      <td>5.0</td>\n",
       "      <td>5.0</td>\n",
       "      <td>0.1</td>\n",
       "      <td>0.00620967</td>\n",
       "      <td>0.0937903</td>\n",
       "    </tr>\n",
       "    <tr>\n",
       "      <td>1</td>\n",
       "      <td>6.0</td>\n",
       "      <td>6.0</td>\n",
       "      <td>0.2</td>\n",
       "      <td>0.0227501</td>\n",
       "      <td>0.17725</td>\n",
       "    </tr>\n",
       "    <tr>\n",
       "      <td>2</td>\n",
       "      <td>8.5</td>\n",
       "      <td>8.0</td>\n",
       "      <td>0.3</td>\n",
       "      <td>0.158655</td>\n",
       "      <td>0.141345</td>\n",
       "    </tr>\n",
       "    <tr>\n",
       "      <td>3</td>\n",
       "      <td>8.4</td>\n",
       "      <td>8.4</td>\n",
       "      <td>0.4</td>\n",
       "      <td>0.211855</td>\n",
       "      <td>0.188145</td>\n",
       "    </tr>\n",
       "    <tr>\n",
       "      <td>4</td>\n",
       "      <td>8.0</td>\n",
       "      <td>8.5</td>\n",
       "      <td>0.5</td>\n",
       "      <td>0.226627</td>\n",
       "      <td>0.273373</td>\n",
       "    </tr>\n",
       "    <tr>\n",
       "      <td>5</td>\n",
       "      <td>15.0</td>\n",
       "      <td>8.8</td>\n",
       "      <td>0.6</td>\n",
       "      <td>0.274253</td>\n",
       "      <td>0.325747</td>\n",
       "    </tr>\n",
       "    <tr>\n",
       "      <td>6</td>\n",
       "      <td>14.5</td>\n",
       "      <td>9.6</td>\n",
       "      <td>0.7</td>\n",
       "      <td>0.42074</td>\n",
       "      <td>0.27926</td>\n",
       "    </tr>\n",
       "    <tr>\n",
       "      <td>7</td>\n",
       "      <td>9.6</td>\n",
       "      <td>10.5</td>\n",
       "      <td>0.8</td>\n",
       "      <td>0.598706</td>\n",
       "      <td>0.201294</td>\n",
       "    </tr>\n",
       "    <tr>\n",
       "      <td>8</td>\n",
       "      <td>10.5</td>\n",
       "      <td>14.5</td>\n",
       "      <td>0.9</td>\n",
       "      <td>0.987776</td>\n",
       "      <td>0.0877755</td>\n",
       "    </tr>\n",
       "    <tr>\n",
       "      <td>9</td>\n",
       "      <td>8.8</td>\n",
       "      <td>15.0</td>\n",
       "      <td>1.0</td>\n",
       "      <td>0.99379</td>\n",
       "      <td>0.00620967</td>\n",
       "    </tr>\n",
       "  </tbody>\n",
       "</table>\n",
       "</div>"
      ],
      "text/plain": [
       "    x_i  xi_sorted  Sn_x        F(x)  |Fx-Sn(x)|\n",
       "0   5.0        5.0   0.1  0.00620967   0.0937903\n",
       "1   6.0        6.0   0.2   0.0227501     0.17725\n",
       "2   8.5        8.0   0.3    0.158655    0.141345\n",
       "3   8.4        8.4   0.4    0.211855    0.188145\n",
       "4   8.0        8.5   0.5    0.226627    0.273373\n",
       "5  15.0        8.8   0.6    0.274253    0.325747\n",
       "6  14.5        9.6   0.7     0.42074     0.27926\n",
       "7   9.6       10.5   0.8    0.598706    0.201294\n",
       "8  10.5       14.5   0.9    0.987776   0.0877755\n",
       "9   8.8       15.0   1.0     0.99379  0.00620967"
      ]
     },
     "execution_count": 106,
     "metadata": {},
     "output_type": "execute_result"
    }
   ],
   "source": [
    "ks_df"
   ]
  },
  {
   "cell_type": "code",
   "execution_count": 114,
   "metadata": {},
   "outputs": [
    {
     "name": "stdout",
     "output_type": "stream",
     "text": [
      "We cannot reject null hypothesis\n"
     ]
    }
   ],
   "source": [
    "D = ks_df['|Fx-Sn(x)|'].max()\n",
    "n = df['data'].size\n",
    "alpha = 0.05\n",
    "critical_value_ks = 1.36/math.sqrt(n)\n",
    "\n",
    "if critical_value_ks>=D:\n",
    "    print(\"We cannot reject null hypothesis\")\n",
    "else:\n",
    "    print(\"Null Hypothesis rejected\")"
   ]
  },
  {
   "cell_type": "code",
   "execution_count": null,
   "metadata": {},
   "outputs": [],
   "source": []
  }
 ],
 "metadata": {
  "kernelspec": {
   "display_name": "Python 3",
   "language": "python",
   "name": "python3"
  },
  "language_info": {
   "codemirror_mode": {
    "name": "ipython",
    "version": 3
   },
   "file_extension": ".py",
   "mimetype": "text/x-python",
   "name": "python",
   "nbconvert_exporter": "python",
   "pygments_lexer": "ipython3",
   "version": "3.7.4"
  }
 },
 "nbformat": 4,
 "nbformat_minor": 2
}
