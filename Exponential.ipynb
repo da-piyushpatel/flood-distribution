{
 "cells": [
  {
   "cell_type": "code",
   "execution_count": 4,
   "metadata": {},
   "outputs": [],
   "source": [
    "import numpy as np\n",
    "import pandas as pd\n",
    "import matplotlib.pyplot as plt\n",
    "import seaborn as sns\n",
    "from scipy.integrate import quad\n",
    "from scipy.optimize import minimize\n",
    "import math as math\n",
    "import scipy.stats as stats\n",
    "%matplotlib inline"
   ]
  },
  {
   "cell_type": "code",
   "execution_count": 5,
   "metadata": {},
   "outputs": [],
   "source": [
    "df = pd.read_csv('data1.csv')"
   ]
  },
  {
   "cell_type": "code",
   "execution_count": 10,
   "metadata": {},
   "outputs": [],
   "source": [
    "lambda_exp = 1/(df['data'].mean())\n",
    "\n",
    "def exponential(x):\n",
    "    return (lambda_exp*np.exp(-lambda_exp*x))"
   ]
  },
  {
   "cell_type": "code",
   "execution_count": 11,
   "metadata": {},
   "outputs": [
    {
     "data": {
      "text/plain": [
       "<matplotlib.axes._subplots.AxesSubplot at 0x20001035f48>"
      ]
     },
     "execution_count": 11,
     "metadata": {},
     "output_type": "execute_result"
    },
    {
     "data": {
      "image/png": "[encoded data removed]",
      "text/plain": [
       "<Figure size 432x288 with 1 Axes>"
      ]
     },
     "metadata": {
      "needs_background": "light"
     },
     "output_type": "display_data"
    }
   ],
   "source": [
    "sns.distplot(df['data'],bins=10)"
   ]
  },
  {
   "cell_type": "code",
   "execution_count": 13,
   "metadata": {},
   "outputs": [
    {
     "name": "stdout",
     "output_type": "stream",
     "text": [
      "  Interval_min Interval_max  ni         pi       ei ni_sq_by_ei\n",
      "1       346.63      1883.62  20   0.384553  38.4553     10.4017\n",
      "2      1883.62      2145.08  11  0.0460779  4.60779     26.2599\n",
      "3      2145.08      2406.53   7  0.0417765  4.17765     11.7291\n",
      "4      2406.53      2667.99   8  0.0378768  3.78768     16.8969\n",
      "5      2667.99      2929.44  11   0.034341   3.4341     35.2348\n",
      "6      2929.44       3190.9   8  0.0311353  3.11353     20.5554\n",
      "7       3190.9      3452.35  13  0.0282289  2.82289     59.8677\n",
      "8      3452.35      4433.67  20  0.0843777  8.43777     47.4059\n",
      "14.067 128.3514067980919\n",
      "Reject Null Hypothesis\n"
     ]
    }
   ],
   "source": [
    "# chi squared distribution\n",
    "mean = df['data'].mean()\n",
    "sd = df['data'].std()\n",
    "quater_percentile = df['data'].loc[4]\n",
    "bin = (mean-quater_percentile)*2\n",
    "\n",
    "cs_df = pd.DataFrame(index=[1,2,3,4,5,6,7,8],columns=['Interval_min','Interval_max','ni','pi','ei','ni_sq_by_ei'])\n",
    "cs_df['Interval_min'].loc[5] = cs_df['Interval_max'].loc[4] = mean\n",
    "cs_df['Interval_min'].loc[4] = cs_df['Interval_max'].loc[3] = mean - bin\n",
    "cs_df['Interval_min'].loc[3] = cs_df['Interval_max'].loc[2] = mean - 2*bin\n",
    "cs_df['Interval_min'].loc[2] = cs_df['Interval_max'].loc[1] = mean - 3*bin\n",
    "cs_df['Interval_max'].loc[1] = mean - 3*bin\n",
    "cs_df['Interval_min'].loc[1] = df['data'].min()\n",
    "cs_df['Interval_min'].loc[6] = cs_df['Interval_max'].loc[5] = mean + bin\n",
    "cs_df['Interval_min'].loc[7] = cs_df['Interval_max'].loc[6] = mean + 2*bin\n",
    "cs_df['Interval_min'].loc[8] = cs_df['Interval_max'].loc[7] = mean + 3*bin\n",
    "cs_df['Interval_min'].loc[8] = mean + 3*bin\n",
    "cs_df['Interval_max'].loc[8] = df['data'].max()\n",
    "\n",
    "for i in cs_df.index:\n",
    "    cs_df['ni'][i] = df[(df['data']>cs_df['Interval_min'][i]) & (df['data']<cs_df['Interval_max'][i])]['data'].count()\n",
    "#     cs_df['pi'][i] = quad(exponential,np.NINF,cs_df['Interval_max'][i])[0] - quad(exponential,np.NINF,cs_df['Interval_min'][i])[0]\n",
    "    cs_df['pi'][i] = quad(exponential,cs_df['Interval_min'][i],cs_df['Interval_max'][i])[0]\n",
    "    cs_df['ei'][i] = df['data'].size * cs_df['pi'][i]\n",
    "    cs_df['ni_sq_by_ei'] = (cs_df['ni']**2)/cs_df['ei']\n",
    "    \n",
    "print(cs_df)\n",
    "    \n",
    "test_stat_value = cs_df['ni_sq_by_ei'].sum() - df['data'].size\n",
    "\n",
    "chi_df = pd.read_csv('chi_table.csv')\n",
    "\n",
    "alpha = 0.05\n",
    "dof = cs_df['Interval_min'].size-1\n",
    "\n",
    "columns = np.array(chi_df.columns)\n",
    "# print(columns)\n",
    "for i in range(len(columns)):\n",
    "    if columns[i] == str(alpha):\n",
    "        alpha_col_index = i\n",
    "        \n",
    "critical_value = chi_df.iloc[dof-1,alpha_col_index]\n",
    "\n",
    "print(critical_value , test_stat_value)\n",
    "\n",
    "if critical_value<=test_stat_value:\n",
    "    print(\"Reject Null Hypothesis\")\n",
    "else:\n",
    "    print(\"Failed to reject Null hypothesis\")"
   ]
  },
  {
   "cell_type": "code",
   "execution_count": null,
   "metadata": {},
   "outputs": [],
   "source": []
  }
 ],
 "metadata": {
  "kernelspec": {
   "display_name": "Python 3",
   "language": "python",
   "name": "python3"
  },
  "language_info": {
   "codemirror_mode": {
    "name": "ipython",
    "version": 3
   },
   "file_extension": ".py",
   "mimetype": "text/x-python",
   "name": "python",
   "nbconvert_exporter": "python",
   "pygments_lexer": "ipython3",
   "version": "3.7.4"
  }
 },
 "nbformat": 4,
 "nbformat_minor": 2
}
